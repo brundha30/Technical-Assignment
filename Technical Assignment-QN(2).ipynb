{
 "cells": [
  {
   "cell_type": "markdown",
   "metadata": {},
   "source": [
    "# Your task is to complete the validate_triangle and validate_rectangle functions for the classes."
   ]
  },
  {
   "cell_type": "code",
   "execution_count": 1,
   "metadata": {},
   "outputs": [
    {
     "name": "stdout",
     "output_type": "stream",
     "text": [
      "Valid Triangle.\n",
      "Valid Rectangle.\n"
     ]
    }
   ],
   "source": [
    "class Shape:\n",
    "    \n",
    "    def valid_triangle(self,a,b,c):\n",
    "        self.a=a\n",
    "        self.b=b\n",
    "        self.c=c\n",
    "        if (self.a+self.b >=self.c) or (self.b+self.c >=self.a) or (self.a+self.c >=self.b):\n",
    "            print(\"Valid Triangle.\")\n",
    "        else:\n",
    "            print(\"Invalid Triangle.\")\n",
    "            \n",
    "    def valid_rectangle(self,a,b,c,d):\n",
    "        self.a=a\n",
    "        self.b=b\n",
    "        self.c=c\n",
    "        self.d=d\n",
    "        if (a==c and b==d):\n",
    "            print(\"Valid Rectangle.\")\n",
    "        else:\n",
    "            print(\"Invalid Rectangle.\")\n",
    "            \n",
    "                        \n",
    "o=Shape()\n",
    "o.valid_triangle(3,4,5)\n",
    "o.valid_rectangle(2,4,2,4)"
   ]
  }
 ],
 "metadata": {
  "kernelspec": {
   "display_name": "Python 3",
   "language": "python",
   "name": "python3"
  },
  "language_info": {
   "codemirror_mode": {
    "name": "ipython",
    "version": 3
   },
   "file_extension": ".py",
   "mimetype": "text/x-python",
   "name": "python",
   "nbconvert_exporter": "python",
   "pygments_lexer": "ipython3",
   "version": "3.7.6"
  }
 },
 "nbformat": 4,
 "nbformat_minor": 4
}
